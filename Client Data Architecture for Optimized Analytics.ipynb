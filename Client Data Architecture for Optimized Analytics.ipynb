{
 "cells": [
  {
   "cell_type": "code",
   "execution_count": 12,
   "id": "f0e7b05d",
   "metadata": {},
   "outputs": [],
   "source": [
    "class Client:\n",
    "#Initializes the Client object with personal and credit information.\n",
    "    def __init__(self, first_name, last_name, year_birth, gender, credits, credits_paid):\n",
    "        self.first_name = first_name\n",
    "        self.last_name = last_name\n",
    "        self.year_birth = year_birth\n",
    "        self.gender = gender\n",
    "        self.credits = credits        \n",
    "        self.credits_paid = credits_paid\n",
    "#Calculates and returns the total amount paid by the client across all credits.        \n",
    "    def summary_client_payment(self):\n",
    "        sp = sum(self.credits_paid.values())\n",
    "        return sp\n",
    "#Counts and returns the total number of credits issued to the client.    \n",
    "    def cnt_credit(self):\n",
    "        l = len(self.credits.values())\n",
    "        return l\n",
    "#Calculates and returns the total amount of credits issued to the client.    \n",
    "    def summary_client_credit(self):\n",
    "        sc = sum(self.credits.values())\n",
    "        return sc\n",
    "#Calculates and returns the ratio of the amount paid to the total credit amount.    \n",
    "    def share_paid_amt(self):\n",
    "        rpa = self.summary_client_payment() / self.summary_client_credit()\n",
    "        return rpa\n",
    "#Finds and returns the amount of the largest credit ever issued to the client.    \n",
    "    def max_credit(self):\n",
    "        mc = max(self.credits.values())\n",
    "        return mc\n",
    "#Calculates and returns the client's age based on the current year.    \n",
    "    def age(self):\n",
    "        age = 2022 - self.year_birth\n",
    "        return age\n",
    "#Creates and returns a string introduction for the client, including their name, age, and gender.    \n",
    "    def introduction(self):\n",
    "        intro_str = self.first_name + \" \" + self.last_name + \" \" + str(self.age()) + \" \" + self.gender\n",
    "        return intro_str\n",
    "    "
   ]
  },
  {
   "cell_type": "code",
   "execution_count": 1,
   "id": "64d56ad5",
   "metadata": {},
   "outputs": [],
   "source": [
    "#Control\n",
    "first_name1 = \"Иван\"\n",
    "last_name1 = \"Иванов\"\n",
    "year_birth1 = 1972\n",
    "gender1 = \"М\"\n",
    "credits1 = {112312:100000, 143212:50000, 221232:12000}\n",
    "credits_paid1 = {112312:0, 143212:5000, 221232:1000}"
   ]
  },
  {
   "cell_type": "code",
   "execution_count": 14,
   "id": "09dfcc71",
   "metadata": {},
   "outputs": [],
   "source": [
    "Client_1 = Client(first_name1, last_name1, year_birth1, gender1, credits1, credits_paid1)\n"
   ]
  },
  {
   "cell_type": "code",
   "execution_count": 15,
   "id": "9808833d",
   "metadata": {},
   "outputs": [
    {
     "data": {
      "text/plain": [
       "__main__.Client"
      ]
     },
     "execution_count": 15,
     "metadata": {},
     "output_type": "execute_result"
    }
   ],
   "source": [
    "type(Client_1)"
   ]
  },
  {
   "cell_type": "code",
   "execution_count": 16,
   "id": "805bee98",
   "metadata": {},
   "outputs": [
    {
     "data": {
      "text/plain": [
       "6000"
      ]
     },
     "execution_count": 16,
     "metadata": {},
     "output_type": "execute_result"
    }
   ],
   "source": [
    "Client_1.summary_client_payment()"
   ]
  },
  {
   "cell_type": "code",
   "execution_count": 17,
   "id": "0f893ec3",
   "metadata": {},
   "outputs": [
    {
     "data": {
      "text/plain": [
       "3"
      ]
     },
     "execution_count": 17,
     "metadata": {},
     "output_type": "execute_result"
    }
   ],
   "source": [
    "Client_1.cnt_credit()"
   ]
  },
  {
   "cell_type": "code",
   "execution_count": 18,
   "id": "9e0dc195",
   "metadata": {},
   "outputs": [
    {
     "data": {
      "text/plain": [
       "162000"
      ]
     },
     "execution_count": 18,
     "metadata": {},
     "output_type": "execute_result"
    }
   ],
   "source": [
    "Client_1.summary_client_credit()"
   ]
  },
  {
   "cell_type": "code",
   "execution_count": 19,
   "id": "b8485569",
   "metadata": {},
   "outputs": [
    {
     "data": {
      "text/plain": [
       "0.037037037037037035"
      ]
     },
     "execution_count": 19,
     "metadata": {},
     "output_type": "execute_result"
    }
   ],
   "source": [
    "Client_1.share_paid_amt()"
   ]
  },
  {
   "cell_type": "code",
   "execution_count": 20,
   "id": "f81c09e1",
   "metadata": {},
   "outputs": [
    {
     "data": {
      "text/plain": [
       "100000"
      ]
     },
     "execution_count": 20,
     "metadata": {},
     "output_type": "execute_result"
    }
   ],
   "source": [
    "Client_1.max_credit()"
   ]
  },
  {
   "cell_type": "code",
   "execution_count": 21,
   "id": "ed4d1d50",
   "metadata": {},
   "outputs": [
    {
     "data": {
      "text/plain": [
       "50"
      ]
     },
     "execution_count": 21,
     "metadata": {},
     "output_type": "execute_result"
    }
   ],
   "source": [
    "Client_1.age()"
   ]
  },
  {
   "cell_type": "code",
   "execution_count": 22,
   "id": "b15a7906",
   "metadata": {},
   "outputs": [
    {
     "data": {
      "text/plain": [
       "'Иван Иванов 50 М'"
      ]
     },
     "execution_count": 22,
     "metadata": {},
     "output_type": "execute_result"
    }
   ],
   "source": [
    "Client_1.introduction()"
   ]
  },
  {
   "cell_type": "code",
   "execution_count": null,
   "id": "13647178",
   "metadata": {},
   "outputs": [],
   "source": []
  },
  {
   "cell_type": "code",
   "execution_count": null,
   "id": "c27207cb",
   "metadata": {},
   "outputs": [],
   "source": []
  },
  {
   "cell_type": "code",
   "execution_count": null,
   "id": "150dfa8f",
   "metadata": {},
   "outputs": [],
   "source": []
  }
 ],
 "metadata": {
  "kernelspec": {
   "display_name": "Python 3 (ipykernel)",
   "language": "python",
   "name": "python3"
  },
  "language_info": {
   "codemirror_mode": {
    "name": "ipython",
    "version": 3
   },
   "file_extension": ".py",
   "mimetype": "text/x-python",
   "name": "python",
   "nbconvert_exporter": "python",
   "pygments_lexer": "ipython3",
   "version": "3.10.9"
  }
 },
 "nbformat": 4,
 "nbformat_minor": 5
}
